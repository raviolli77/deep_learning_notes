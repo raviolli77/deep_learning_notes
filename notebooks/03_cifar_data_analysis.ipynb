{
 "cells": [
  {
   "cell_type": "markdown",
   "metadata": {
    "colab_type": "text",
    "id": "hyWK722bV1H9"
   },
   "source": [
    "## Load Pacakges\n",
    "\n",
    "This notebook was built using Google's Colaboratory "
   ]
  },
  {
   "cell_type": "code",
   "execution_count": 0,
   "metadata": {
    "colab": {
     "autoexec": {
      "startup": false,
      "wait_interval": 0
     }
    },
    "colab_type": "code",
    "collapsed": true,
    "id": "9BlfrkXpOLoy"
   },
   "outputs": [],
   "source": [
    "import numpy as np\n",
    "import random \n",
    "import matplotlib.pyplot as plt\n",
    "import keras\n",
    "from keras.datasets import cifar10\n",
    "from keras.models import Sequential\n",
    "from keras.layers import Dense\n",
    "from keras.layers import Dropout"
   ]
  },
  {
   "cell_type": "markdown",
   "metadata": {
    "colab_type": "text",
    "id": "2at9Abl5VuYM"
   },
   "source": [
    "## Load the Data"
   ]
  },
  {
   "cell_type": "code",
   "execution_count": 2,
   "metadata": {
    "colab": {
     "autoexec": {
      "startup": false,
      "wait_interval": 0
     },
     "base_uri": "https://localhost:8080/",
     "height": 51
    },
    "colab_type": "code",
    "executionInfo": {
     "elapsed": 41872,
     "status": "ok",
     "timestamp": 1524786205714,
     "user": {
      "displayName": "Raul Eulogio",
      "photoUrl": "https://lh3.googleusercontent.com/a/default-user=s128",
      "userId": "110188998483746673066"
     },
     "user_tz": 420
    },
    "id": "XTP4VV3oOP1I",
    "outputId": "0d0ffe64-9d76-4c92-cfe8-b514b5fb4c1b"
   },
   "outputs": [
    {
     "name": "stdout",
     "output_type": "stream",
     "text": [
      "Downloading data from https://www.cs.toronto.edu/~kriz/cifar-10-python.tar.gz\n",
      "170500096/170498071 [==============================] - 39s 0us/step\n"
     ]
    }
   ],
   "source": [
    "(training_set, class_set), (test_set, class_test_set) = cifar10.load_data()"
   ]
  },
  {
   "cell_type": "code",
   "execution_count": 0,
   "metadata": {
    "colab": {
     "autoexec": {
      "startup": false,
      "wait_interval": 0
     }
    },
    "colab_type": "code",
    "collapsed": true,
    "id": "ov4-LPRmXxG3"
   },
   "outputs": [],
   "source": [
    "training_set = training_set.astype('float32')\n",
    "test_set = test_set.astype('float32')\n",
    "training_set = training_set / 255.0\n",
    "test_set = test_set / 255.0"
   ]
  },
  {
   "cell_type": "code",
   "execution_count": 15,
   "metadata": {
    "colab": {
     "autoexec": {
      "startup": false,
      "wait_interval": 0
     },
     "base_uri": "https://localhost:8080/",
     "height": 51
    },
    "colab_type": "code",
    "executionInfo": {
     "elapsed": 375,
     "status": "ok",
     "timestamp": 1524786794981,
     "user": {
      "displayName": "Raul Eulogio",
      "photoUrl": "https://lh3.googleusercontent.com/a/default-user=s128",
      "userId": "110188998483746673066"
     },
     "user_tz": 420
    },
    "id": "zmCICPEHV5Pl",
    "outputId": "d11e0b67-948a-4ee0-c107-7e88132fa776"
   },
   "outputs": [
    {
     "data": {
      "text/plain": [
       "(array([0, 1, 2, 3, 4, 5, 6, 7, 8, 9], dtype=uint8),\n",
       " array([5000, 5000, 5000, 5000, 5000, 5000, 5000, 5000, 5000, 5000]))"
      ]
     },
     "execution_count": 15,
     "metadata": {
      "tags": []
     },
     "output_type": "execute_result"
    }
   ],
   "source": [
    "np.unique(class_set, return_counts = True)"
   ]
  },
  {
   "cell_type": "code",
   "execution_count": 16,
   "metadata": {
    "colab": {
     "autoexec": {
      "startup": false,
      "wait_interval": 0
     },
     "base_uri": "https://localhost:8080/",
     "height": 51
    },
    "colab_type": "code",
    "executionInfo": {
     "elapsed": 321,
     "status": "ok",
     "timestamp": 1524786797414,
     "user": {
      "displayName": "Raul Eulogio",
      "photoUrl": "https://lh3.googleusercontent.com/a/default-user=s128",
      "userId": "110188998483746673066"
     },
     "user_tz": 420
    },
    "id": "qzTP1k8CWbhO",
    "outputId": "4b0fffea-ab39-4496-f8a6-9ab3cd32aa2f"
   },
   "outputs": [
    {
     "data": {
      "text/plain": [
       "(array([0, 1, 2, 3, 4, 5, 6, 7, 8, 9]),\n",
       " array([1000, 1000, 1000, 1000, 1000, 1000, 1000, 1000, 1000, 1000]))"
      ]
     },
     "execution_count": 16,
     "metadata": {
      "tags": []
     },
     "output_type": "execute_result"
    }
   ],
   "source": [
    "np.unique(class_test_set, return_counts = True)"
   ]
  },
  {
   "cell_type": "markdown",
   "metadata": {
    "colab_type": "text",
    "id": "XxqEU3N6WhZ1"
   },
   "source": [
    "No Class Imbalance!"
   ]
  },
  {
   "cell_type": "code",
   "execution_count": 0,
   "metadata": {
    "colab": {
     "autoexec": {
      "startup": false,
      "wait_interval": 0
     }
    },
    "colab_type": "code",
    "collapsed": true,
    "id": "NBMRttOrURNh"
   },
   "outputs": [],
   "source": [
    "random.seed(42)\n",
    "# Empty list where we'll add pseudo-random numbers \n",
    "# within range of our index to plot them. \n",
    "rand_list = []\n",
    "\n",
    "for x in range(8):\n",
    "  rand_list.append(random.randint(1,60000))"
   ]
  },
  {
   "cell_type": "code",
   "execution_count": 18,
   "metadata": {
    "colab": {
     "autoexec": {
      "startup": false,
      "wait_interval": 0
     },
     "base_uri": "https://localhost:8080/",
     "height": 468
    },
    "colab_type": "code",
    "executionInfo": {
     "elapsed": 988,
     "status": "ok",
     "timestamp": 1524786809144,
     "user": {
      "displayName": "Raul Eulogio",
      "photoUrl": "https://lh3.googleusercontent.com/a/default-user=s128",
      "userId": "110188998483746673066"
     },
     "user_tz": 420
    },
    "id": "CT6o5QpiRPnU",
    "outputId": "e59b67ba-9445-45e1-bd91-6de640696ff9"
   },
   "outputs": [
    {
     "data": {
      "image/png": "[encoded data removed]",
      "text/plain": [
       "<matplotlib.figure.Figure at 0x7f9e6cf04cf8>"
      ]
     },
     "metadata": {
      "tags": []
     },
     "output_type": "display_data"
    }
   ],
   "source": [
    "rgb = training_set[10,::]\n",
    "\n",
    "f, ax = plt.subplots(figsize=(15, 8))\n",
    "for i in range(0, len(rand_list)):\n",
    "    plt.subplot(2, 4, i + 1)\n",
    "    plt.axis('off')\n",
    "    plt.imshow(training_set[rand_list[i]])"
   ]
  },
  {
   "cell_type": "markdown",
   "metadata": {
    "colab_type": "text",
    "id": "hrxdo2HPVZzx"
   },
   "source": [
    "## Building the Model "
   ]
  },
  {
   "cell_type": "markdown",
   "metadata": {
    "colab": {
     "autoexec": {
      "startup": false,
      "wait_interval": 0
     }
    },
    "colab_type": "code",
    "collapsed": true,
    "id": "a-YJlz4wVbn1"
   },
   "source": [
    "tbc..."
   ]
  }
 ],
 "metadata": {
  "accelerator": "GPU",
  "colab": {
   "collapsed_sections": [],
   "default_view": {},
   "name": "cifar_data_analysis.ipynb",
   "provenance": [],
   "toc_visible": true,
   "version": "0.3.2",
   "views": {}
  },
  "kernelspec": {
   "display_name": "Python 3",
   "language": "python",
   "name": "python3"
  },
  "language_info": {
   "codemirror_mode": {
    "name": "ipython",
    "version": 3
   },
   "file_extension": ".py",
   "mimetype": "text/x-python",
   "name": "python",
   "nbconvert_exporter": "python",
   "pygments_lexer": "ipython3",
   "version": "3.5.2"
  }
 },
 "nbformat": 4,
 "nbformat_minor": 1
}
